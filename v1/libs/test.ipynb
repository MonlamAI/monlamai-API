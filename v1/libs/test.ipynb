{
 "cells": [
  {
   "cell_type": "code",
   "execution_count": null,
   "metadata": {},
   "outputs": [],
   "source": [
    "def chunk_tibetan_text(text, chunk_size=200):\n",
    "    chunks = []\n",
    "    current_index = 0\n",
    "\n",
    "    while current_index < len(text):\n",
    "        next_index = current_index + chunk_size\n",
    "\n",
    "        # If next_index is beyond the length of the text, adjust it to the text length\n",
    "        if next_index >= len(text):\n",
    "            next_index = len(text)\n",
    "        else:\n",
    "            # Find the nearest ། or space character before or at next_index\n",
    "            last_delimiter = max(\n",
    "                text.rfind(\"།\", current_index, next_index),\n",
    "                text.rfind(\" \", current_index, next_index)\n",
    "            )\n",
    "            if last_delimiter < current_index:\n",
    "                # If no delimiter is found after the current_index, use the chunk_size\n",
    "                last_delimiter = next_index\n",
    "            else:\n",
    "                last_delimiter += 1  # Include the delimiter in the chunk\n",
    "            next_index = last_delimiter\n",
    "\n",
    "        chunks.append(text[current_index:next_index].strip())\n",
    "        current_index = next_index\n",
    "\n",
    "    return chunks\n",
    "text=\"ཟླ་འདིའི་ཕྱི་ཚེས་ ༧ ཉིན་བཞུགས་སྒར་ཐེག་ཆེན་ཆོས་གླིང་གཙུག་ལག་ཁང་དུ་མོན་ཡུལ་དད་ལྡན་མི་མང་ཡོངས་ནས་ཇི་ལྟར་གསོལ་འདེབས་ཞུས་པ་བཞིན་༧གོང་ས་རྒྱལ་བ་རིན་པོ་ཆེ་མཆོག་ལ་བརྟན་བཞུགས་བསྟར་འབུལ་ཞུ་རྒྱུ་ཡིན་པ་ལྟར།  དེ་རིང་སྔ་དྲོ་བཞུགས་སྒར་རྒྱལ་བའི་ཕོ་བྲང་དུ། ༧གོང་ས་རྒྱལ་བ་རིན་པོ་ཆེ་མཆོག་ནས་ཨ་རུ་ན་ཌལ་མངའ་སྡེ་སྤྱི་ཁྱབ་བློན་ཆེན་པདྨ་མཁའ་འགྲོ་ལགས་སུ་དམིགས་བསལ་མཇལ་ཁ་དང་བཀའ་སློབ་བསྩལ་ཡོད་ཅིང་། སྐབས་དེར་༧མགོན་པོ་གང་ཉིད་མཆོག་ཨ་རུ་ན་ཅལ་མངའ་སྡེ་རུ་ཆིབས་བསྒྱུར་བསྐྱང་རྒྱུའི་ཞལ་བཞེས་མཛད་ཡོད་པ་སྤྱི་ཁྱབ་བློན་ཆེན་པདྨ་མཁའ་འགྲོ་ལགས་ཀྱིས་གསུངས་བྱུང་།༧གོང་ས་མཆོག་གི་མཇལ་བཅར་སྐོར་ལ་ཨ་རུ་ན་ཅལ་མངའ་སྡེའི་སྤྱི་ཁྱབ་བློན་ཆེན་པདྨ་མཁའ་འགྲོ་མཆོག་ནས་འདི་གའི་གསར་འགོད་པར། ཐེངས་འདིའི་སྐོར་སྐྱོད་རིང་ང་རང་ཧ་ཅང་སྐྱིད་པོ་བྱུང་། དེ་རིང་ཞོགས་པར་ང་ཚོ་མཇལ་བཅར་བ་མང་པོར་༧གོང་ས་རྒྱལ་བ་རིན་པོ་མཆོག་གི་བྱིན་རླབས་ཐོབ་པའི་སྐལ་བ་བྱུང་། ༧གོང་ས་མཆོག་གི་འཕྲོད་བཞེས་ཡག་པོ་མཐོང་དུས་ཧ་ཅང་དགའ་བོ་བྱུང་ལ། མགོན་པོ་མཆོག་གི་སྐུ་ཚེ་ཞབས་པད་བརྟན་པའི་གསོལ་འདེབས་ཞུས་ཡོད། ༧གོང་ས་རྒྱལ་བ་རིན་པོ་མཆོག་ནི་ཨ་རུ་ན་ཅལ་མངའ་སྡེ་དང་། དམིགས་བསལ་མོན་ཡུལ་མི་མང་བར་འབྲེལ་ལམ་ཡག་པོ་ཡོད། ངས་མི་མང་གི་ཚབ་བྱས་ཏེ་༧གོང་ས་རྒྱལ་བ་རིན་པོ་ཆེ་མཆོག་ཨ་རུ་ན་ཅལ་མངའ་སྡེའི་ནང་དུ་གདན་འདྲེན་ཞུས་པར། ༧གོང་ས་མཆོག་ནས་ཐུགས་བརྩེ་བའི་ཐོག་ཞལ་བཞེས་གནང་སོང་། དེ་ནི་ཨ་རུ་ན་ཅལ་མངའ་སྡེའི་མི་མང་ཡོངས་ལ་མཚོན་ན་གཏམ་བཟང་གི་གསར་འགྱུར་ཞིག་ཆགས་ཡོད། ༧གོང་ས་མཆོག་གི་འཕྲོད་བཞེས་གང་ལེགས་བྱུང་ཚེ། ༧མགོན་པོ་མཆོག་ཨ་རུ་ན་ཅལ་མངའ་སྡེའི་ནང་ཆིབས་བསྒྱུར་བསྐྱང་རྒྱུ་རེད། ཅེས་འགྲེལ་བརྗོད་གནང་བྱུང་།\"\n",
    "print(chunk_tibetan_text(text))\n"
   ]
  }
 ],
 "metadata": {
  "language_info": {
   "name": "python"
  }
 },
 "nbformat": 4,
 "nbformat_minor": 2
}
